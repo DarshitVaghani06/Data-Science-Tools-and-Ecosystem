{
 "cells": [
  {
   "cell_type": "markdown",
   "id": "d0e385cb",
   "metadata": {},
   "source": [
    "Exercise 2 - Create a markdown cell with the title of the notebook.\n",
    "\n",
    "Data Science Tools and Ecosystem"
   ]
  },
  {
   "cell_type": "markdown",
   "id": "e490d4c5",
   "metadata": {},
   "source": [
    "Exercise 3 - Create a markdown cell for an introduction. (1 pt)\n",
    "\n",
    "Objectives:\n",
    "\n",
    "List popular languages that Data Scientists use.\n",
    "List commonly used libraries used by Data Scientists.\n",
    "Comment on Data Science tools."
   ]
  },
  {
   "cell_type": "markdown",
   "id": "7e78362f",
   "metadata": {},
   "source": [
    "Exercise 4 - Create a markdown cell to list data science languages. (3 pts)\n",
    "\n",
    "Some of the popular languages that Data Scientists use are:\n",
    "\n",
    "1)Python.\n",
    "2)R.\n",
    "3)SQL.\n",
    "4)Java.\n",
    "5)Julia.\n",
    "6)Scala.\n",
    "7)C/C++.\n",
    "8)JavaScript."
   ]
  },
  {
   "cell_type": "markdown",
   "id": "039e82a0",
   "metadata": {},
   "source": [
    "Exercise 5 - Create a markdown cell to list data science libraries. (3 pts)\n",
    "\n",
    "Some of the commonly used libraries used by Data Scientists include:\n",
    "\n",
    "1 TensorFlow. \n",
    "2 NumPy. \n",
    "3 SciPy. \n",
    "4 Pandas. \n",
    "5 Matplotlib. \n",
    "6 Keras. \n",
    "7 SciKit-Learn. \n",
    "8 PyTorch. \n",
    "9 Scrapy. \n",
    "10 BeautifulSoup. \n",
    "11 LightGBM. \n",
    "12 ELI5. \n",
    "13 Theano. \n",
    "14 NuPIC. \n",
    "15 Ramp. \n",
    "16 Pipenv. \n",
    "17 Bob. \n",
    "18 PyBrain. \n",
    "19 Caffe2. \n",
    "20 Chainer. "
   ]
  },
  {
   "cell_type": "markdown",
   "id": "218240a2",
   "metadata": {},
   "source": [
    "Exercise 6 - Create a markdown cell with a table of Data Science tools. (3 pts)\n",
    "\n",
    "Data Science Tools:\n",
    "\n",
    "| Tool           | Purpose                       |\n",
    "| -------------- | ----------------------------- |\n",
    "| Jupyter        | Interactive coding           |\n",
    "| RStudio        | R programming environment    |\n",
    "| VSCode         | General-purpose code editor  |\n",
    "| Tableau        | Data visualization           |\n",
    "\n",
    "SAS. It is one of those data science tools which are specifically designed for statistical operation |\t\t\n",
    "Apache Spark |\n",
    "BigML ."
   ]
  },
  {
   "cell_type": "markdown",
   "id": "7c929707",
   "metadata": {},
   "source": [
    "Exercise 7 - Create a markdown cell introducing arithmetic expression examples. (1 pt)\n",
    "\n",
    "# Arithmetic operations\n",
    "code = compile(\"5 + 4\", \"<string>\", \"eval\")\n",
    "eval(code)\n",
    "# Result: 9"
   ]
  },
  {
   "cell_type": "markdown",
   "id": "f1264f52",
   "metadata": {},
   "source": [
    "code1 = compile(\"(5 + 7) * 2\", \"<string>\", \"eval\")\n",
    "eval(code1)\n",
    "# Result: 24"
   ]
  },
  {
   "cell_type": "markdown",
   "id": "9df34ee3",
   "metadata": {},
   "source": [
    "import math\n",
    "# Volume of a sphere\n",
    "code2 = compile(\"4 / 3 * math.pi * math.pow(25, 3)\", \"<string>\", \"eval\")\n",
    "eval(code2)\n",
    "# Result: 65449.84694978735"
   ]
  },
  {
   "cell_type": "markdown",
   "id": "de528c33",
   "metadata": {},
   "source": [
    "Exercise 8 - Create a code cell to multiply and add numbers.(2 pts)\n",
    "\n",
    "(3*4)+5\n",
    "# Result: 17"
   ]
  },
  {
   "cell_type": "markdown",
   "id": "c31aece7",
   "metadata": {},
   "source": [
    "Exercise 9 - Create a code cell to convert minutes to hours. (2 pts)\n",
    "\n",
    "This will convert 200 minutes to hours by diving by 60\n",
    "\n",
    "days = 0\n",
    "hours = 0\n",
    "mins = 0\n",
    "\n",
    "time = 200\n",
    "#days = time / 1440\n",
    "leftover_minutes = time % 1440\n",
    "hours = leftover_minutes / 60\n",
    "#mins = time - (days*1440) - (hours*60)\n",
    "print(str(days) + \" days, \" + str(hours) + \" hours, \" + str(mins) +  \" mins. \")\n",
    "\n",
    "# Result: 3.3333333333333335 hours"
   ]
  },
  {
   "cell_type": "markdown",
   "id": "1ae1ce9d",
   "metadata": {},
   "source": [
    "Exercise 10 -Insert a markdown cell to list Objectives.\n",
    "\n",
    "-Understand basic data science concepts\n",
    "\n",
    "-Practice coding with Python and data science libraries\n",
    "\n",
    "-Explore arithmetic expressions and conversions"
   ]
  },
  {
   "cell_type": "markdown",
   "id": "6fd635da",
   "metadata": {},
   "source": [
    "Exercise 11 - Create a markdown cell to indicate the Author’s name.\n",
    "\n",
    "Author:\n",
    "\n",
    "Darshit Vaghani"
   ]
  },
  {
   "cell_type": "code",
   "execution_count": null,
   "id": "5d3954a6",
   "metadata": {},
   "outputs": [],
   "source": []
  }
 ],
 "metadata": {
  "kernelspec": {
   "display_name": "Python 3 (ipykernel)",
   "language": "python",
   "name": "python3"
  },
  "language_info": {
   "codemirror_mode": {
    "name": "ipython",
    "version": 3
   },
   "file_extension": ".py",
   "mimetype": "text/x-python",
   "name": "python",
   "nbconvert_exporter": "python",
   "pygments_lexer": "ipython3",
   "version": "3.10.9"
  }
 },
 "nbformat": 4,
 "nbformat_minor": 5
}
